{
  "cells": [
    {
      "cell_type": "markdown",
      "metadata": {
        "id": "JAPoU8Sm5E6e"
      },
      "source": [
        "<table align=\"left\">\n",
        "\n",
        "  <td>\n",
        "    <a href=\"https://colab.research.google.com/github/leerazo/neo4j_aura_api/blob/main/03-deploying_aura/03-deploying_aura.ipynb\" target=\"_blank\">\n",
        "      <img src=\"https://cloud.google.com/ml-engine/images/colab-logo-32px.png\" alt=\"Colab logo\"> Run in Colab\n",
        "    </a>\n",
        "  </td>\n",
        "  <td>\n",
        "    <a href=\"https://github.com/leerazo/neo4j_aura_api/blob/main/03-deploying_aura/03-deploying_aura.ipynb\" target=\"_blank\">\n",
        "      <img src=\"https://cloud.google.com/ml-engine/images/github-logo-32px.png\" alt=\"GitHub logo\">\n",
        "      View on GitHub\n",
        "    </a>\n",
        "  </td>\n",
        "  <td>\n",
        "    <a href=\"https://console.cloud.google.com/vertex-ai/workbench/deploy-notebook?download_url=https://github.com/leerazo/neo4j_aura_api/blob/main/03-deploying_aura/03-deploying_aura.ipynb\">\n",
        "      <img src=\"https://lh3.googleusercontent.com/UiNooY4LUgW_oTvpsNhPpQzsstV5W8F7rYgxgGBD85cWJoLmrOzhVs_ksK_vgx40SHs7jCqkTkCk=e14-rj-sc0xffffff-h130-w32\" alt=\"Vertex AI logo\">Open in Vertex AI Workbench\n",
        "    </a>\n",
        "</td>\n",
        "</table>"
      ]
    },
    {
      "cell_type": "markdown",
      "metadata": {
        "id": "Ysjo5FuxRDQ3"
      },
      "source": [
        "\n",
        "# Deploying Neo4j using the Aura API"
      ]
    },
    {
      "cell_type": "markdown",
      "metadata": {
        "id": "ZlMcYdRUMsAP"
      },
      "source": [
        "Let's begin by installing and importing the needed python libraries.\n",
        "\n",
        "This cell will automatically restart the kernel after installation.\n",
        "\n",
        "If you see a message that \"Your session crashed for an unknown reason\" during this step, you can safely ignore that."
      ]
    },
    {
      "cell_type": "code",
      "execution_count": null,
      "metadata": {
        "id": "1ENtReEMMsAQ"
      },
      "outputs": [],
      "source": [
        "%pip install python-dotenv\n",
        "%pip install jupyterlab\n",
        "%pip install ipywidgets\n",
        "\n",
        "# Restart the kernel after installing libraries\n",
        "import IPython\n",
        "app = IPython.Application.instance()\n",
        "app.kernel.do_shutdown(True)"
      ]
    },
    {
      "cell_type": "code",
      "execution_count": null,
      "metadata": {
        "id": "sHFl1q_XMsAQ"
      },
      "outputs": [],
      "source": [
        "from dotenv import dotenv_values\n",
        "from urllib.parse import urljoin\n",
        "import ipywidgets as widgets\n",
        "from IPython.display import display\n",
        "import subprocess\n",
        "import datetime\n",
        "import json\n",
        "import os"
      ]
    },
    {
      "cell_type": "markdown",
      "metadata": {
        "id": "miXLdULgMsAQ"
      },
      "source": [
        "## Step 1: Authenticate API and get a bearer token for access\n",
        "\n",
        "Upload the [API credential file you created earlier](../01-setup_aura_api/README.md) using the widget in the cell below."
      ]
    },
    {
      "cell_type": "code",
      "execution_count": null,
      "metadata": {
        "id": "YZkjmdGkMsAQ"
      },
      "outputs": [],
      "source": [
        "import sys\n",
        "IN_COLAB = 'google.colab' in sys.modules\n",
        "print('Google Colab:', str(IN_COLAB))\n",
        "\n",
        "if IN_COLAB:\n",
        "    from google.colab import files\n",
        "    uploaded = files.upload()\n",
        "    filename = next(iter(uploaded))\n",
        "    content = uploaded[filename]\n",
        "    cred_file = 'aura_api_creds.txt'\n",
        "    os.rename(filename, cred_file)\n",
        "else:\n",
        "    cred_file = ''\n",
        "    print('Currently only supported in Google Colab')"
      ]
    },
    {
      "cell_type": "markdown",
      "metadata": {
        "id": "iYaJB3m4MsAQ"
      },
      "source": [
        "Now let's extract the credentials for further use. We'll use these to generate a bearer token and save both to files for later use."
      ]
    },
    {
      "cell_type": "code",
      "execution_count": null,
      "metadata": {
        "id": "PlX6xyEBMsAQ"
      },
      "outputs": [],
      "source": [
        "def refresh_token(api_creds, api_base):\n",
        "    api_endpoint = urljoin(api_base, '/oauth/token')\n",
        "\n",
        "    curl_cmd = \"curl --request POST '{}' --user '{}:{}' --header 'Content-Type: application/x-www-form-urlencoded' --data-urlencode 'grant_type=client_credentials'\".format(api_endpoint, api_creds['CLIENT_ID'], api_creds['CLIENT_SECRET'], api_creds['CLIENT_NAME'])\n",
        "    result = json.loads(subprocess.check_output(curl_cmd, shell=True))\n",
        "    access_token = result['access_token']\n",
        "    expires_in = result['expires_in']\n",
        "\n",
        "    now = datetime.datetime.now()\n",
        "    expiration = (now + datetime.timedelta(0, expires_in)).isoformat()\n",
        "\n",
        "    bearer_token = {\n",
        "        'access_token': access_token,\n",
        "        'expiration': expiration\n",
        "    }\n",
        "\n",
        "    # Save the bearer token to a file\n",
        "    token_file = 'api_bearer_token'\n",
        "    with open(token_file, \"w\") as outfile:\n",
        "        json.dump(bearer_token, outfile, indent=4)\n",
        "\n",
        "    access_token = bearer_token['access_token']\n",
        "    expiration = bearer_token['expiration']\n",
        "    return access_token, expiration\n",
        "\n",
        "aura_creds = dotenv_values(cred_file)\n",
        "api_base = 'https://api.neo4j.io/'\n",
        "access_token, expiration = refresh_token(aura_creds, api_base)"
      ]
    },
    {
      "cell_type": "markdown",
      "metadata": {
        "id": "ADYWPEXZMsAQ"
      },
      "source": [
        "And now we're ready to deploy our first Aura instance!"
      ]
    },
    {
      "cell_type": "markdown",
      "metadata": {
        "id": "_GZvivXMMsAQ"
      },
      "source": [
        "\n",
        "## Step 2: Choosing a cloud provider and configuring a new Aura instance.\n",
        "\n",
        "Let's define a couple of helper functions."
      ]
    },
    {
      "cell_type": "code",
      "execution_count": null,
      "metadata": {
        "id": "Mew42vskMsAQ"
      },
      "outputs": [],
      "source": [
        "def list_tenants(access_token, api_base, tenant_id=None):\n",
        "    #api_endpoint = 'https://api.neo4j.io/v1/tenants'\n",
        "\n",
        "    api_endpoint = urljoin(api_base, '/v1/tenants')\n",
        "\n",
        "    aura_tenants = {}\n",
        "\n",
        "    if tenant_id:\n",
        "        api_endpoint += '/' + tenant_id\n",
        "\n",
        "    print()\n",
        "    print('api_endpoint:', api_endpoint)\n",
        "    print()\n",
        "\n",
        "    list_cmd = \"curl -s -X 'GET' '{}' -H 'accept: application/json' -H 'Authorization: Bearer {}'\".format(api_endpoint, access_token)\n",
        "\n",
        "    list_tenants = dict(json.loads(subprocess.check_output(list_cmd, shell=True)))['data']\n",
        "    for item in list_tenants:\n",
        "        aura_tenants[item['id']] = {}\n",
        "        aura_tenants[item['id']]['id'] = item['id']\n",
        "        aura_tenants[item['id']]['name'] = item['name']\n",
        "\n",
        "    return aura_tenants\n",
        "\n",
        "\n",
        "def tenant_info(access_token, api_base, tenant_id):\n",
        "    api_endpoint = urljoin(api_base, '/v1/tenants/' + tenant_id)\n",
        "    tenant_data = {}\n",
        "    info_cmd = \"curl -s -X 'GET' '{}' -H 'accept: application/json' -H 'Authorization: Bearer {}'\".format(api_endpoint, access_token)\n",
        "    tenant_info = json.loads(subprocess.check_output(info_cmd, shell=True))['data']\n",
        "\n",
        "    for item in tenant_info:\n",
        "        tenant_data[tenant_info['id']] = {}\n",
        "        tenant_data[tenant_info['id']]['tenant_id'] = tenant_info['id']\n",
        "        tenant_data[tenant_info['id']]['tenant_name'] = tenant_info['name']\n",
        "        tenant_data[tenant_info['id']]['instance_configurations'] = list(tenant_info['instance_configurations'])\n",
        "\n",
        "    return tenant_data\n"
      ]
    },
    {
      "cell_type": "markdown",
      "metadata": {
        "id": "Rzh8IG2s8r6g"
      },
      "source": [
        "\n",
        "Now let's scan all of the tenants we have access to and choose from the list of available cloud providers using the dropdown menu in the widget below."
      ]
    },
    {
      "cell_type": "code",
      "execution_count": null,
      "metadata": {
        "id": "qJ1EU6egMsAR"
      },
      "outputs": [],
      "source": [
        "aura_tenants = list_tenants(access_token, api_base)\n",
        "tenant_ids = list(aura_tenants.keys())\n",
        "available_configs = {}\n",
        "print('aura_tenants:', aura_tenants)\n",
        "\n",
        "config_list = []\n",
        "\n",
        "available_clouds = []\n",
        "available_types = []\n",
        "available_versions = []\n",
        "available_sizes = []\n",
        "\n",
        "print()\n",
        "print('Scanning available Aura tenants:')\n",
        "print('--------------------------------')\n",
        "for tenant_id in aura_tenants:\n",
        "    print('tenant_id:', tenant_id, '\"' + aura_tenants[tenant_id]['name'] + '\"')\n",
        "    #print('tenant_info:', aura_tenants[tenant_id])\n",
        "    tenant_details = tenant_info(access_token, api_base, tenant_id)\n",
        "\n",
        "    if tenant_id not in available_configs:\n",
        "        available_configs[tenant_id] = {}\n",
        "        available_configs[tenant_id]['tenant_name'] = tenant_details[tenant_id]['tenant_name']\n",
        "        available_configs[tenant_id]['cloud_providers'] = {}\n",
        "\n",
        "    for config in tenant_details[tenant_id]['instance_configurations']:\n",
        "        config_dict = {\n",
        "            'tenant_id': aura_tenants[tenant_id]['id'],\n",
        "            'tenant_name': aura_tenants[tenant_id]['name'],\n",
        "            'cloud_provider': config['cloud_provider'],\n",
        "            'region': config['region'],\n",
        "            'aura_type': config['type'],\n",
        "            'neo4j_version': config['version'],\n",
        "            'size': config['memory'],\n",
        "            'size_int': int(config['memory'][0:len(config['memory'])-2])\n",
        "        }\n",
        "        config_list.append(config_dict)\n",
        "\n",
        "        # Create a dictionary of all available configs\n",
        "        if config['cloud_provider'] not in available_configs[tenant_id]['cloud_providers']:\n",
        "            available_configs[tenant_id]['cloud_providers'][config['cloud_provider']] = {}\n",
        "            available_configs[tenant_id]['cloud_providers'][config['cloud_provider']]['regions'] = {}\n",
        "        if config['region'] not in available_configs[tenant_id]['cloud_providers'][config['cloud_provider']]['regions']:\n",
        "            available_configs[tenant_id]['cloud_providers'][config['cloud_provider']]['regions'][config['region']] = {}\n",
        "        if config['type'] not in available_configs[tenant_id]['cloud_providers'][config['cloud_provider']]['regions'][config['region']]:\n",
        "            available_configs[tenant_id]['cloud_providers'][config['cloud_provider']]['regions'][config['region']][config['type']] = {}\n",
        "        if config['version'] not in available_configs[tenant_id]['cloud_providers'][config['cloud_provider']]['regions'][config['region']][config['type']]:\n",
        "            available_configs[tenant_id]['cloud_providers'][config['cloud_provider']]['regions'][config['region']][config['type']][config['version']] = []\n",
        "        if config['memory'] not in available_configs[tenant_id]['cloud_providers'][config['cloud_provider']]['regions'][config['region']][config['type']][config['version']]:\n",
        "            available_configs[tenant_id]['cloud_providers'][config['cloud_provider']]['regions'][config['region']][config['type']][config['version']].append(config['memory'])\n",
        "\n",
        "        # Create a summary of all available configs\n",
        "        if config['cloud_provider'] not in available_clouds:\n",
        "            available_clouds.append(config['cloud_provider'])\n",
        "        if config['type'] not in available_types:\n",
        "            available_types.append(config['type'])\n",
        "        if config['version'] not in available_versions:\n",
        "            available_versions.append(config['version'])\n",
        "        str_len = len(config['memory'])\n",
        "        size_int = config['memory'][0:(str_len-2)]\n",
        "        if int(size_int) not in available_sizes:\n",
        "            str_len = len(config['memory'])\n",
        "            size_int = config['memory'][0:(str_len-2)]\n",
        "            available_sizes.append(int(size_int))\n",
        "            available_sizes.sort()\n",
        "\n",
        "#print('available_configs:')\n",
        "#print(json.dumps(config_list, indent=4))\n",
        "\n",
        "print('\\nSummary:')\n",
        "print('--------')\n",
        "print('tenant_ids:', tenant_ids)\n",
        "print('available_clouds:', sorted(available_clouds))\n",
        "print('available_types:', sorted(available_types))\n",
        "print('available_versions:', sorted(available_versions))\n",
        "print('available_sizes:', available_sizes)\n",
        "\n",
        "print('\\nSelect one of the available cloud providers from the list below:')\n",
        "selected_csp = widgets.Dropdown(\n",
        "    options=available_clouds,\n",
        "    disabled=False,\n",
        ")\n",
        "\n",
        "display(selected_csp)\n",
        "\n"
      ]
    },
    {
      "cell_type": "markdown",
      "metadata": {
        "id": "i_rP8dJ0MsAR"
      },
      "source": [
        "Now run the cell below to select a desired Aura configuration using the dropdown menus in the widgets below.\n",
        "\n"
      ]
    },
    {
      "cell_type": "code",
      "execution_count": null,
      "metadata": {
        "id": "nsgV1NaXMsAR"
      },
      "outputs": [],
      "source": [
        "cloud_provider = selected_csp.value\n",
        "\n",
        "available_tenants = []\n",
        "available_types = []\n",
        "available_versions = []\n",
        "available_sizes = []\n",
        "\n",
        "for config in config_list:\n",
        "    if config['cloud_provider'] == cloud_provider:\n",
        "        if config['tenant_id'] not in str(available_tenants):\n",
        "            available_tenants.append(config['tenant_id'])\n",
        "        if config['aura_type'] not in available_types:\n",
        "            available_types.append(config['aura_type'])\n",
        "        if config['neo4j_version'] not in available_versions:\n",
        "            available_versions.append(config['neo4j_version'])\n",
        "        if config['size_int'] not in available_sizes:\n",
        "            available_sizes.append(config['size_int'])\n",
        "\n",
        "available_types.sort()\n",
        "available_versions.sort()\n",
        "available_sizes.sort()\n",
        "\n",
        "print('cloud_provider:', cloud_provider)\n",
        "print('\\nSelect configuration from dropdown menus below:\\n')\n",
        "\n",
        "selected_tenant = widgets.Dropdown(\n",
        "    options=available_tenants,\n",
        "    description='Tenant ID:',\n",
        "    disabled=False,\n",
        ")\n",
        "selected_type = widgets.Dropdown(\n",
        "    options=available_types,\n",
        "    description='Aura type:',\n",
        "    disabled=False,\n",
        ")\n",
        "selected_version = widgets.Dropdown(\n",
        "    options=available_versions,\n",
        "    description=\"Neo4j version:\",\n",
        "    disabled=False,\n",
        ")\n",
        "selected_size = widgets.Dropdown(\n",
        "    options=available_sizes,\n",
        "    description=\"Size (GB):\",\n",
        "    disabled=False,\n",
        ")\n",
        "\n",
        "print('Avaiable tenants:')\n",
        "print('-----------------')\n",
        "for tenant_id in available_tenants:\n",
        "    print('tenant_id:', tenant_id, ' \"' + tenant_info(access_token, api_base, tenant_id)[tenant_id]['tenant_name'] + '\"')\n",
        "print()\n",
        "\n",
        "display(selected_tenant)\n",
        "display(selected_type)\n",
        "display(selected_version)\n",
        "display(selected_size)"
      ]
    },
    {
      "cell_type": "markdown",
      "metadata": {
        "id": "Z9U8tJWNMsAR"
      },
      "source": [
        "Let's define a couple more helper functions and we'll be ready to deploy."
      ]
    },
    {
      "cell_type": "code",
      "execution_count": null,
      "metadata": {
        "id": "UDY81O1KMsAR"
      },
      "outputs": [],
      "source": [
        "def deploy_instance(access_token, api_base, instance_name, tenant_id, cloud_provider, region='europe-west1', aura_type='professional-ds', neo4j_version='5', size='16GB'):\n",
        "    api_endpoint = urljoin(api_base, '/v1/instances')\n",
        "\n",
        "    instance_details = {}\n",
        "    print('\\nDeployment specifications:')\n",
        "    print('neo4j_version:', neo4j_version)\n",
        "    print('region:', region)\n",
        "    print('memory:', size)\n",
        "    print('name:', instance_name)\n",
        "    print('type:', aura_type)\n",
        "    print('tenant_id', tenant_id)\n",
        "    print('cloud_provider:', cloud_provider)\n",
        "\n",
        "    request_body = {\n",
        "        \"version\": neo4j_version,\n",
        "        \"region\": region,\n",
        "        \"memory\": size,\n",
        "        \"name\": instance_name,\n",
        "        \"type\": aura_type,\n",
        "        \"tenant_id\": tenant_id,\n",
        "        \"cloud_provider\": cloud_provider\n",
        "    }\n",
        "\n",
        "    json_request_body = json.dumps(request_body)\n",
        "\n",
        "    curl_cmd = \"curl -s -X 'POST' '{}' -H 'accept: application/json' -H 'Authorization: Bearer {}' -H 'Content-Type: application/json'\".format(api_endpoint, access_token)\n",
        "    curl_cmd += \" -d '{}'\".format(json_request_body)\n",
        "\n",
        "    api_response = json.loads(subprocess.check_output(curl_cmd, shell=True))\n",
        "\n",
        "    response_data = api_response['data']\n",
        "\n",
        "    instance_details['id'] = response_data['id']\n",
        "    instance_details['name'] = response_data['name']\n",
        "    instance_details['connection_url'] = response_data['connection_url']\n",
        "    instance_details['password'] = response_data['password']\n",
        "    instance_details['username'] = response_data['username']\n",
        "    instance_details['cloud_provider'] = response_data['cloud_provider']\n",
        "    instance_details['region'] = response_data['region']\n",
        "    instance_details['tenant_id'] = response_data['tenant_id']\n",
        "    instance_details['type'] = response_data['type']\n",
        "\n",
        "    return instance_details\n",
        "\n",
        "def list_instances(access_token, api_base, tenant_id=None):\n",
        "    api_endpoint = urljoin(api_base, '/v1/instances')\n",
        "    aura_instances = {}\n",
        "    list_cmd = \"curl -s -X 'GET' '{}' -H 'accept: application/json' -H 'Authorization: Bearer {}'\".format(api_endpoint, access_token)\n",
        "\n",
        "    list_instances = json.loads(subprocess.check_output(list_cmd, shell=True))['data']\n",
        "    for instance in list_instances:\n",
        "        aura_instances[instance['id']] = {}\n",
        "        aura_instances[instance['id']]['instance_id'] = instance['id']\n",
        "        aura_instances[instance['id']]['instance_name'] = instance['name']\n",
        "        aura_instances[instance['id']]['cloud_provider'] = instance['cloud_provider']\n",
        "        aura_instances[instance['id']]['tenant_id'] = instance['tenant_id']\n",
        "\n",
        "    return aura_instances\n",
        "\n",
        "def get_instance_info(access_token, api_base, instance_id):\n",
        "    api_endpoint = urljoin(api_base, '/v1/instances/' + instance_id)\n",
        "    instance_data = {}\n",
        "\n",
        "    info_cmd = \"curl -s -X 'GET' '{}' -H 'accept: application/json' -H 'Authorization: Bearer {}'\".format(api_endpoint, access_token)\n",
        "\n",
        "    api_response = json.loads(subprocess.check_output(info_cmd, shell=True))\n",
        "\n",
        "    if 'data' in api_response:\n",
        "        response_data = api_response['data']\n",
        "        instance_status = response_data['status']\n",
        "\n",
        "    return response_data"
      ]
    },
    {
      "cell_type": "markdown",
      "metadata": {
        "id": "WXULHUM4-Ucb"
      },
      "source": [
        "Great! Now run the cell below and get a list of all of the available regions supporting our specifications and give the new Aura instance a name in the widgets below."
      ]
    },
    {
      "cell_type": "code",
      "execution_count": null,
      "metadata": {
        "id": "OVRCOPF8MsAR"
      },
      "outputs": [],
      "source": [
        "aura_type = selected_type.value\n",
        "version = selected_version.value\n",
        "size = str(selected_size.value) + 'GB'\n",
        "tenant_id = selected_tenant.value\n",
        "\n",
        "print('cloud_provider:', cloud_provider)\n",
        "print('aura_type:', aura_type)\n",
        "print('version:', version)\n",
        "print('size:', size)\n",
        "print('tenant_id:', tenant_id)\n",
        "\n",
        "eligible_regions = []\n",
        "\n",
        "for config in config_list:\n",
        "    if (cloud_provider==config['cloud_provider']) and (tenant_id==config['tenant_id']) and (aura_type==config['aura_type']) and (version==config['neo4j_version']) and (size==config['size']):\n",
        "        #eligible_configs.append({config['region'], config['tenant_name'], config['tenant_id']})\n",
        "        if config['region'] not in eligible_regions:\n",
        "            eligible_regions.append(config['region'])\n",
        "\n",
        "#for row in eligible_configs:\n",
        "#    print(row)\n",
        "#    print(row['tenant_name'], row['region'])\n",
        "\n",
        "selected_region = widgets.Dropdown(\n",
        "    options=eligible_regions,\n",
        "    description=\"Region:\",\n",
        "    disabled=False,\n",
        ")\n",
        "instance_name = widgets.Text(\n",
        "    #value='Hello World',\n",
        "    placeholder='Instance name',\n",
        "    description='Neo4j instance name:',\n",
        "    disabled=False\n",
        ")\n",
        "\n",
        "display(selected_region)\n",
        "display(instance_name)"
      ]
    },
    {
      "cell_type": "markdown",
      "metadata": {
        "id": "RTw7zWCBMsAR"
      },
      "source": [
        "And now we're ready to go! Run the cell below to deploy our new instance. You can monitor its progress from the [Aura console](https://console.neo4j.io)."
      ]
    },
    {
      "cell_type": "code",
      "execution_count": null,
      "metadata": {
        "id": "oL7kFIt4MsAS"
      },
      "outputs": [],
      "source": [
        "new_name = instance_name.value\n",
        "region = selected_region.value\n",
        "aura_type = selected_type.value\n",
        "neo4j_version = str(selected_version.value)\n",
        "size = str(selected_size.value) + 'GB'\n",
        "\n",
        "print('instance_name:', new_name)\n",
        "print('tenant_id:', tenant_id)\n",
        "print('cloud_provider:', cloud_provider)\n",
        "print('region:', region)\n",
        "print('aura_type:', aura_type)\n",
        "print('neo4j_version:', neo4j_version)\n",
        "print('size:', size)\n",
        "\n",
        "instance_details = deploy_instance(access_token, api_base, new_name, tenant_id, cloud_provider, region=region, aura_type=aura_type, neo4j_version=neo4j_version, size=size)\n",
        "\n",
        "print('\\ninstance_details:')\n",
        "for item in instance_details:\n",
        "    print(item, '=', instance_details[item])"
      ]
    },
    {
      "cell_type": "markdown",
      "metadata": {
        "id": "aGyx1mB6MsAS"
      },
      "source": [
        "Let's take a closer look at our new instance. You may see some empty values while the instance is still in \"creating\" status. If so, wait a few minutes and run it again aftet it's finished deploying."
      ]
    },
    {
      "cell_type": "code",
      "execution_count": null,
      "metadata": {
        "id": "5HuBRG-MMsAS"
      },
      "outputs": [],
      "source": [
        "instance_details = get_instance_info(access_token, api_base, instance_details['id'])\n",
        "print('instance_details:')\n",
        "print()\n",
        "for item in instance_details:\n",
        "    print('\\t' + item, '=', instance_details[item])"
      ]
    },
    {
      "cell_type": "markdown",
      "metadata": {
        "id": "pG7Tv2c0ErCm"
      },
      "source": [
        "## Congratulations!\n",
        "That's it! You've deployed your first Aura instance using the Aura API."
      ]
    }
  ],
  "metadata": {
    "colab": {
      "provenance": []
    },
    "kernelspec": {
      "display_name": "Python 3",
      "name": "python3"
    },
    "language_info": {
      "codemirror_mode": {
        "name": "ipython",
        "version": 3
      },
      "file_extension": ".py",
      "mimetype": "text/x-python",
      "name": "python",
      "nbconvert_exporter": "python",
      "pygments_lexer": "ipython3",
      "version": "3.11.5"
    }
  },
  "nbformat": 4,
  "nbformat_minor": 0
}
