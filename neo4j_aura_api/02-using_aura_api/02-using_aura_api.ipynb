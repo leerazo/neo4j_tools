{
  "cells": [
    {
      "cell_type": "markdown",
      "metadata": {
        "id": "JAPoU8Sm5E6e"
      },
      "source": [
        "<table align=\"left\">\n",
        "\n",
        "  <td>\n",
        "    <a href=\"https://colab.research.google.com/github/leerazo/neo4j_aura_api/blob/main/02-using_aura_api/02-using_aura_api.ipynb\" target=\"_blank\">\n",
        "      <img src=\"https://cloud.google.com/ml-engine/images/colab-logo-32px.png\" alt=\"Colab logo\"> Run in Colab\n",
        "    </a>\n",
        "  </td>\n",
        "  <td>\n",
        "    <a href=\"https://github.com/leerazo/neo4j_aura_api/blob/main/02-using_aura_api/02-using_aura_api.ipynb\" target=\"_blank\">\n",
        "      <img src=\"https://cloud.google.com/ml-engine/images/github-logo-32px.png\" alt=\"GitHub logo\">\n",
        "      View on GitHub\n",
        "    </a>\n",
        "  </td>\n",
        "  <td>\n",
        "    <a href=\"https://console.cloud.google.com/vertex-ai/workbench/deploy-notebook?download_url=https://github.com/leerazo/neo4j_aura_api/blob/main/02-using_aura_api/02-using_aura_api.ipynb\">\n",
        "      <img src=\"https://lh3.googleusercontent.com/UiNooY4LUgW_oTvpsNhPpQzsstV5W8F7rYgxgGBD85cWJoLmrOzhVs_ksK_vgx40SHs7jCqkTkCk=e14-rj-sc0xffffff-h130-w32\" alt=\"Vertex AI logo\">Open in Vertex AI Workbench\n",
        "    </a>\n",
        "</td>\n",
        "</table>"
      ]
    },
    {
      "cell_type": "markdown",
      "metadata": {
        "id": "Ysjo5FuxRDQ3"
      },
      "source": [
        "# Authenticating and Exploring the Neo4j Aura API Environment"
      ]
    },
    {
      "cell_type": "markdown",
      "metadata": {
        "id": "SPvB70sMGmzO"
      },
      "source": [
        "Let's begin by installing and importing all the needed libraries.\n",
        "\n",
        "This cell will automatically restart the kernel after installation.\n",
        "\n",
        "If you see a message that \"Your session crashed for an unknown reason\" during this step, you can safely ignore that."
      ]
    },
    {
      "cell_type": "code",
      "execution_count": null,
      "metadata": {
        "id": "0XaJMaSBGmzO"
      },
      "outputs": [],
      "source": [
        "%pip install python-dotenv\n",
        "\n",
        "# Restart the kernel after installing libraries\n",
        "import IPython\n",
        "app = IPython.Application.instance()\n",
        "app.kernel.do_shutdown(True)"
      ]
    },
    {
      "cell_type": "code",
      "execution_count": null,
      "metadata": {
        "id": "hAjKy1HbGmzO"
      },
      "outputs": [],
      "source": [
        "from dotenv import dotenv_values\n",
        "from urllib.parse import urljoin\n",
        "import subprocess\n",
        "import datetime\n",
        "import json"
      ]
    },
    {
      "cell_type": "markdown",
      "metadata": {
        "id": "krjScQTnGmzO"
      },
      "source": [
        "## Step 1: Authenticate API and get a bearer token for access\n",
        "\n",
        "Upload the API credential file you created earlier. If you are using Colab you can click the button below to locate and upload the file. If you are using another platform you can do this manually."
      ]
    },
    {
      "cell_type": "code",
      "execution_count": null,
      "metadata": {
        "id": "DnnaEnR4GmzO"
      },
      "outputs": [],
      "source": [
        "from google.colab import files\n",
        "uploaded = files.upload()"
      ]
    },
    {
      "cell_type": "markdown",
      "metadata": {
        "id": "y3aYaQasGmzO"
      },
      "source": [
        "Now we'll extract the credentials from the file into a dictionary for further use."
      ]
    },
    {
      "cell_type": "code",
      "execution_count": null,
      "metadata": {
        "id": "b988Lu9CGmzP"
      },
      "outputs": [],
      "source": [
        "filename = list(uploaded.keys())[0]\n",
        "print(filename)\n",
        "\n",
        "aura_creds = dotenv_values(filename)\n",
        "for item in aura_creds:\n",
        "  print(item, '=', aura_creds[item])"
      ]
    },
    {
      "cell_type": "markdown",
      "metadata": {
        "id": "6avLVA3qGmzP"
      },
      "source": [
        "Let's define a helper function to generate a bearer token for access using the downloaded credentials."
      ]
    },
    {
      "cell_type": "code",
      "execution_count": null,
      "metadata": {
        "id": "JKNtb7g9GmzP"
      },
      "outputs": [],
      "source": [
        "def refresh_token(api_creds, api_base):\n",
        "    api_endpoint = urljoin(api_base, '/oauth/token')\n",
        "\n",
        "    curl_cmd = \"curl --request POST '{}' --user '{}:{}' --header 'Content-Type: application/x-www-form-urlencoded' --data-urlencode 'grant_type=client_credentials'\".format(api_endpoint, api_creds['CLIENT_ID'], api_creds['CLIENT_SECRET'], api_creds['CLIENT_NAME'])\n",
        "    result = json.loads(subprocess.check_output(curl_cmd, shell=True))\n",
        "    access_token = result['access_token']\n",
        "    expires_in = result['expires_in']\n",
        "\n",
        "    now = datetime.datetime.now()\n",
        "    expiration = (now + datetime.timedelta(0, expires_in)).isoformat()\n",
        "\n",
        "    bearer_token = {\n",
        "        'access_token': access_token,\n",
        "        'expiration': expiration\n",
        "    }\n",
        "\n",
        "    # Save the bearer token to a file\n",
        "    token_file = 'api_bearer_token'\n",
        "    with open(token_file, \"w\") as outfile:\n",
        "        json.dump(bearer_token, outfile, indent=4)\n",
        "\n",
        "    access_token = bearer_token['access_token']\n",
        "    return access_token\n",
        "\n",
        "api_base = 'https://api.neo4j.io/'\n",
        "\n",
        "access_token = refresh_token(aura_creds, api_base)\n",
        "print('access_token:', access_token)"
      ]
    },
    {
      "cell_type": "markdown",
      "metadata": {
        "id": "-_TamHk6GmzP"
      },
      "source": [
        "## Step 2: Explore the Aura tenants\n",
        "\n",
        "Now that we're authenticated, let's take a look around and see what we have access to.\n",
        "\n",
        "Let's define a few more helper functions."
      ]
    },
    {
      "cell_type": "code",
      "execution_count": null,
      "metadata": {
        "id": "m7Mssm3jGmzP"
      },
      "outputs": [],
      "source": [
        "def list_tenants(access_token, api_base, tenant_id=None):\n",
        "    #api_endpoint = 'https://api.neo4j.io/v1/tenants'\n",
        "\n",
        "    api_endpoint = urljoin(api_base, '/v1/tenants')\n",
        "\n",
        "    aura_tenants = {}\n",
        "\n",
        "    if tenant_id:\n",
        "        api_endpoint += '/' + tenant_id\n",
        "\n",
        "    print()\n",
        "    print('api_endpoint:', api_endpoint)\n",
        "    print()\n",
        "\n",
        "    list_cmd = \"curl -s -X 'GET' '{}' -H 'accept: application/json' -H 'Authorization: Bearer {}'\".format(api_endpoint, access_token)\n",
        "\n",
        "    list_tenants = dict(json.loads(subprocess.check_output(list_cmd, shell=True)))['data']\n",
        "    for item in list_tenants:\n",
        "        aura_tenants[item['id']] = {}\n",
        "        aura_tenants[item['id']]['id'] = item['id']\n",
        "        aura_tenants[item['id']]['name'] = item['name']\n",
        "\n",
        "    return aura_tenants\n",
        "\n",
        "\n",
        "def tenant_info(access_token, api_base, tenant_id):\n",
        "    api_endpoint = urljoin(api_base, '/v1/tenants/' + tenant_id)\n",
        "    tenant_data = {}\n",
        "    info_cmd = \"curl -s -X 'GET' '{}' -H 'accept: application/json' -H 'Authorization: Bearer {}'\".format(api_endpoint, access_token)\n",
        "    tenant_info = json.loads(subprocess.check_output(info_cmd, shell=True))['data']\n",
        "\n",
        "    for item in tenant_info:\n",
        "        tenant_data[tenant_info['id']] = {}\n",
        "        tenant_data[tenant_info['id']]['tenant_id'] = tenant_info['id']\n",
        "        tenant_data[tenant_info['id']]['tenant_name'] = tenant_info['name']\n",
        "        tenant_data[tenant_info['id']]['instance_configurations'] = list(tenant_info['instance_configurations'])\n",
        "\n",
        "    return tenant_data\n"
      ]
    },
    {
      "cell_type": "markdown",
      "metadata": {
        "id": "QOteH_fSGmzP"
      },
      "source": [
        "Now let's take a look at the environment, beginning with a list of tenants we have access to."
      ]
    },
    {
      "cell_type": "code",
      "execution_count": null,
      "metadata": {
        "id": "Ya3QPa7fGmzP"
      },
      "outputs": [],
      "source": [
        "aura_tenants = list_tenants(access_token, api_base)\n",
        "print()\n",
        "print('Aura Tenants:')\n",
        "print('-------------')\n",
        "for tenant in aura_tenants:\n",
        "    print(aura_tenants[tenant])\n",
        "print()"
      ]
    },
    {
      "cell_type": "markdown",
      "metadata": {
        "id": "AUj5NXIIGmzP"
      },
      "source": [
        "We can also get a take a more detailed look into one of the tenants."
      ]
    },
    {
      "cell_type": "code",
      "execution_count": null,
      "metadata": {
        "id": "-5C7NmAzGmzP"
      },
      "outputs": [],
      "source": [
        "sample_tenant_id = next(iter(aura_tenants))\n",
        "print('sample_tenant_id:', sample_tenant_id)\n",
        "print()\n",
        "\n",
        "tenant_details = tenant_info(access_token, api_base, sample_tenant_id)\n",
        "\n",
        "print('Tenant Details:')\n",
        "print('---------------')\n",
        "for item in tenant_details[sample_tenant_id]:\n",
        "    print(item, '=', tenant_details[sample_tenant_id][item])"
      ]
    },
    {
      "cell_type": "markdown",
      "source": [
        "The following cell will list out all of the supported Aura configurations available in our sample tenant."
      ],
      "metadata": {
        "id": "8vXi272oHu4k"
      }
    },
    {
      "cell_type": "code",
      "source": [
        "for config in tenant_details[sample_tenant_id]['instance_configurations']:\n",
        "    print(config)"
      ],
      "metadata": {
        "id": "3iH4xu9aH4bl"
      },
      "execution_count": null,
      "outputs": []
    },
    {
      "cell_type": "markdown",
      "metadata": {
        "id": "P6o9RNNuGmzP"
      },
      "source": [
        "## Step 3: Examine existing Aura instances\n",
        "\n",
        "Let's take a look and see if there are already any Aura instances running in oru tenant. We'll need to define a couple more helper functions first.\n"
      ]
    },
    {
      "cell_type": "code",
      "execution_count": null,
      "metadata": {
        "id": "tkyPS8qJGmzP"
      },
      "outputs": [],
      "source": [
        "def list_instances(access_token, api_base, tenant_id=None):\n",
        "    api_endpoint = urljoin(api_base, '/v1/instances')\n",
        "    aura_instances = {}\n",
        "    list_cmd = \"curl -s -X 'GET' '{}' -H 'accept: application/json' -H 'Authorization: Bearer {}'\".format(api_endpoint, access_token)\n",
        "\n",
        "    list_instances = json.loads(subprocess.check_output(list_cmd, shell=True))['data']\n",
        "    for instance in list_instances:\n",
        "        aura_instances[instance['id']] = {}\n",
        "        aura_instances[instance['id']]['instance_id'] = instance['id']\n",
        "        aura_instances[instance['id']]['instance_name'] = instance['name']\n",
        "        aura_instances[instance['id']]['cloud_provider'] = instance['cloud_provider']\n",
        "        aura_instances[instance['id']]['tenant_id'] = instance['tenant_id']\n",
        "\n",
        "    return aura_instances\n",
        "\n",
        "def instance_info(access_token, api_base, instance_id):\n",
        "    api_endpoint = urljoin(api_base, '/v1/instances/' + instance_id)\n",
        "    instance_data = {}\n",
        "\n",
        "    info_cmd = \"curl -s -X 'GET' '{}' -H 'accept: application/json' -H 'Authorization: Bearer {}'\".format(api_endpoint, access_token)\n",
        "\n",
        "    api_response = json.loads(subprocess.check_output(info_cmd, shell=True))\n",
        "\n",
        "    if 'data' in api_response:\n",
        "        response_data = api_response['data']\n",
        "        instance_status = response_data['status']\n",
        "\n",
        "    return response_data"
      ]
    },
    {
      "cell_type": "markdown",
      "metadata": {
        "id": "1N6fcp_yGmzP"
      },
      "source": [
        "Now let's get a list of all of the instances running.\n"
      ]
    },
    {
      "cell_type": "code",
      "execution_count": null,
      "metadata": {
        "id": "Q7xl6uVxGmzQ"
      },
      "outputs": [],
      "source": [
        "aura_instances = list_instances(access_token, api_base)\n",
        "print('aura_instances:')\n",
        "for instance in aura_instances:\n",
        "    print(instance, '=', aura_instances[instance])"
      ]
    },
    {
      "cell_type": "markdown",
      "metadata": {
        "id": "aqIB-wSeGmzQ"
      },
      "source": [
        "Let's take a closer look at one of them."
      ]
    },
    {
      "cell_type": "code",
      "execution_count": null,
      "metadata": {
        "id": "7vhCdxb1GmzQ"
      },
      "outputs": [],
      "source": [
        "instance_details = instance_info(access_token, api_base, next(iter(aura_instances)))\n",
        "print('instance_details:')\n",
        "print()\n",
        "for item in instance_details:\n",
        "    print('\\t' + item, '=', instance_details[item])"
      ]
    },
    {
      "cell_type": "markdown",
      "source": [
        "## Congratulations!\n",
        "You get the idea, now you're ready to try and [deploy a new Aura instance](../03-deploying_aura)."
      ],
      "metadata": {
        "id": "_3MQzHzJItwu"
      }
    }
  ],
  "metadata": {
    "colab": {
      "provenance": []
    },
    "kernelspec": {
      "display_name": "Python 3",
      "name": "python3"
    },
    "language_info": {
      "codemirror_mode": {
        "name": "ipython",
        "version": 3
      },
      "file_extension": ".py",
      "mimetype": "text/x-python",
      "name": "python",
      "nbconvert_exporter": "python",
      "pygments_lexer": "ipython3",
      "version": "3.11.5"
    }
  },
  "nbformat": 4,
  "nbformat_minor": 0
}